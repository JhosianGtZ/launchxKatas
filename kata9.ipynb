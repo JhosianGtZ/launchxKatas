{
 "cells": [
  {
   "cell_type": "code",
   "execution_count": null,
   "metadata": {},
   "outputs": [],
   "source": [
    "def informe(tanque1, tanque2, tanque3 ):\n",
    "\n",
    "    promedio = (tanque1 + tanque2 + tanque3) / 3\n",
    "\n",
    "    print(f''' \n",
    "    Combustible en el tanque 1: {tanque1}\n",
    "    -------------------------------------\n",
    "    Combustible en el tanque 2: {tanque2}\n",
    "    -------------------------------------\n",
    "    Combustible en el tanque 3: {tanque3}\n",
    "    -------------------------------------\n",
    "    Promedio de combustible: {promedio}\n",
    "    \n",
    "    ''')\n",
    "\n",
    "\n",
    "\n",
    "informe(2,4,6)"
   ]
  },
  {
   "cell_type": "code",
   "execution_count": null,
   "metadata": {},
   "outputs": [],
   "source": [
    "def funcionPromedio(tanque1, tanque2, tanque3):\n",
    "    promedio = (tanque1 + tanque2 + tanque3) / 3\n",
    "    print(f'El promedio es {promedio}')\n",
    "\n",
    "\n",
    "funcionPromedio(10,10,20)"
   ]
  },
  {
   "cell_type": "code",
   "execution_count": 10,
   "metadata": {},
   "outputs": [
    {
     "name": "stdout",
     "output_type": "stream",
     "text": [
      "\n",
      "    La hora de pre lanzamiento es a las 2:00 pm.\n",
      "    --------------------------------------------------------\n",
      "    El tiempo estimado de vuelo es de 3 hrs.\n",
      "    --------------------------------------------------------\n",
      "    El destino del vuelo es Marte.\n",
      "    --------------------------------------------------------\n",
      "    El tanque tendra una capcidad de 2000 Lt.\n",
      "    \n"
     ]
    }
   ],
   "source": [
    "def informePreciso(preLanzamiento, tiempoVuelo, destino, tanque):\n",
    "\n",
    "    print(f'''\n",
    "    La hora de pre lanzamiento es a las {preLanzamiento} pm.\n",
    "    --------------------------------------------------------\n",
    "    El tiempo estimado de vuelo es de {tiempoVuelo} hrs.\n",
    "    --------------------------------------------------------\n",
    "    El destino del vuelo es {destino}.\n",
    "    --------------------------------------------------------\n",
    "    El tanque tendra una capcidad de {tanque} Lt.\n",
    "    ''')\n",
    "\n",
    "informePreciso('2:00', 3, 'Marte', 2000)\n"
   ]
  }
 ],
 "metadata": {
  "interpreter": {
   "hash": "916dbcbb3f70747c44a77c7bcd40155683ae19c65e1c03b4aa3499c5328201f1"
  },
  "kernelspec": {
   "display_name": "Python 3.8.10 64-bit",
   "language": "python",
   "name": "python3"
  },
  "language_info": {
   "codemirror_mode": {
    "name": "ipython",
    "version": 3
   },
   "file_extension": ".py",
   "mimetype": "text/x-python",
   "name": "python",
   "nbconvert_exporter": "python",
   "pygments_lexer": "ipython3",
   "version": "3.8.10"
  },
  "orig_nbformat": 4
 },
 "nbformat": 4,
 "nbformat_minor": 2
}
