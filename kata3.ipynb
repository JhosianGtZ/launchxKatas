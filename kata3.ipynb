{
 "cells": [
  {
   "cell_type": "markdown",
   "metadata": {},
   "source": [
    "## Lógica Booleana"
   ]
  },
  {
   "cell_type": "markdown",
   "metadata": {},
   "source": [
    "### Ejercicio - Escribir declaraciones if, else, y elif"
   ]
  },
  {
   "cell_type": "code",
   "execution_count": 1,
   "metadata": {},
   "outputs": [
    {
     "name": "stdout",
     "output_type": "stream",
     "text": [
      "! Advertencia Este asteroide esta demasiado cerca.\n"
     ]
    }
   ],
   "source": [
    "asteroide = 49\n",
    "\n",
    "if asteroide > 25:\n",
    "    print('! Advertencia Este asteroide esta demasiado cerca.')\n",
    "else:\n",
    "    print('El asteroide esta a una distancia prudente')"
   ]
  },
  {
   "cell_type": "code",
   "execution_count": 2,
   "metadata": {},
   "outputs": [
    {
     "name": "stdout",
     "output_type": "stream",
     "text": [
      "No hay ninguna luz en el cielo\n"
     ]
    }
   ],
   "source": [
    "asteroide = 19\n",
    "\n",
    "if asteroide > 20:\n",
    "    print('Ese rayo de luz en el cielo es un asteroide')\n",
    "elif asteroide == 20:\n",
    "    print('Ese rayo de luz en el cielo es un asteroide')\n",
    "else:\n",
    "    print('No hay ninguna luz en el cielo')"
   ]
  },
  {
   "cell_type": "markdown",
   "metadata": {},
   "source": [
    "### Ejercicio: Uso de operadores and y or"
   ]
  },
  {
   "cell_type": "code",
   "execution_count": 3,
   "metadata": {},
   "outputs": [
    {
     "name": "stdout",
     "output_type": "stream",
     "text": [
      "Cielo despejado\n"
     ]
    }
   ],
   "source": [
    "tamañoAsteroide = 2\n",
    "velocidadAsteroide = 2\n",
    "\n",
    "if tamañoAsteroide > 25 and velocidadAsteroide >25:\n",
    "    print('Peligro se acerca un asteroide peligroso a gran velocidad')\n",
    "elif  velocidadAsteroide > 25:\n",
    "    print('Esa luz en el cielo es un asteroide')\n",
    "elif tamañoAsteroide > 25:\n",
    "    print('Se acerca un asteroide muy grande')\n",
    "else: \n",
    "    print('Cielo despejado')\n",
    "\n"
   ]
  }
 ],
 "metadata": {
  "interpreter": {
   "hash": "916dbcbb3f70747c44a77c7bcd40155683ae19c65e1c03b4aa3499c5328201f1"
  },
  "kernelspec": {
   "display_name": "Python 3.8.10 64-bit",
   "language": "python",
   "name": "python3"
  },
  "language_info": {
   "codemirror_mode": {
    "name": "ipython",
    "version": 3
   },
   "file_extension": ".py",
   "mimetype": "text/x-python",
   "name": "python",
   "nbconvert_exporter": "python",
   "pygments_lexer": "ipython3",
   "version": "3.8.10"
  },
  "orig_nbformat": 4
 },
 "nbformat": 4,
 "nbformat_minor": 2
}
