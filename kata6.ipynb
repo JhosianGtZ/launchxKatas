{
 "cells": [
  {
   "cell_type": "markdown",
   "metadata": {},
   "source": [
    "## Ejercicio 1"
   ]
  },
  {
   "cell_type": "code",
   "execution_count": 3,
   "metadata": {},
   "outputs": [
    {
     "name": "stdout",
     "output_type": "stream",
     "text": [
      "Los planetas del sistema solar son:  ['Mercurio', 'Venus', 'Tierra', 'Marte', 'Jupiter', 'Saturno', 'Urano', 'Neptuno']\n"
     ]
    }
   ],
   "source": [
    "#creacion de lista\n",
    "planets = ['Mercurio' , 'Venus', 'Tierra', 'Marte', 'Jupiter', 'Saturno', 'Urano', 'Neptuno']\n",
    "print('Los planetas del sistema solar son: ', planets)\n",
    "\n",
    "planets.append('Plutón')"
   ]
  },
  {
   "cell_type": "code",
   "execution_count": 5,
   "metadata": {},
   "outputs": [
    {
     "name": "stdout",
     "output_type": "stream",
     "text": [
      "\n",
      "El número de planetas del sistema solar es: 9 \n",
      "El ultimo planeta del sistema solar es: Plutón\n",
      "\n"
     ]
    }
   ],
   "source": [
    "\n",
    "\n",
    "numberPlanets = len(planets)\n",
    "\n",
    "template = f'''\n",
    "El número de planetas del sistema solar es: {numberPlanets} \n",
    "El ultimo planeta del sistema solar es: {planets[-1]}\n",
    "'''\n",
    "\n",
    "print(template)\n",
    "\n"
   ]
  },
  {
   "cell_type": "code",
   "execution_count": 26,
   "metadata": {},
   "outputs": [],
   "source": [
    "#Declaramos los planetas \n",
    "planets = ['Mercury', 'Venus', 'Earth', 'Mars', 'Jupiter', 'Saturn', 'Neptune']\n",
    "\n",
    "#Pedimos un planeta al usuario\n",
    "userPlanet = input('Ingrese un planeta con su inicial en mayusculas')\n",
    "\n",
    "#Insertamos el planeta a la lista de planetas\n",
    "planets.append(userPlanet)\n"
   ]
  },
  {
   "cell_type": "code",
   "execution_count": 29,
   "metadata": {},
   "outputs": [
    {
     "name": "stdout",
     "output_type": "stream",
     "text": [
      "El planeta del usuario se encuentra en el indice: 7\n"
     ]
    }
   ],
   "source": [
    "indicePlaneta = planets.index(userPlanet)\n",
    "print('El planeta del usuario se encuentra en el indice:', indicePlaneta)"
   ]
  },
  {
   "cell_type": "code",
   "execution_count": 31,
   "metadata": {},
   "outputs": [
    {
     "name": "stdout",
     "output_type": "stream",
     "text": [
      "Los planetas más cecanos a Mandalor son:  ['Mercury', 'Venus', 'Earth', 'Mars', 'Jupiter', 'Saturn', 'Neptune']\n"
     ]
    }
   ],
   "source": [
    "planetasSol = planets[0: indicePlaneta]\n",
    "\n",
    "print('Los planetas más cecanos a', userPlanet  ,'son: ', planetasSol)"
   ]
  },
  {
   "cell_type": "code",
   "execution_count": 32,
   "metadata": {},
   "outputs": [
    {
     "name": "stdout",
     "output_type": "stream",
     "text": [
      "Los planetas más lejanos de Mandalor  son: []\n"
     ]
    }
   ],
   "source": [
    "planetasLejanos = planets[indicePlaneta +1:]\n",
    "print('Los planetas más lejanos de', userPlanet,' son:', planetasLejanos )"
   ]
  }
 ],
 "metadata": {
  "interpreter": {
   "hash": "916dbcbb3f70747c44a77c7bcd40155683ae19c65e1c03b4aa3499c5328201f1"
  },
  "kernelspec": {
   "display_name": "Python 3.8.10 64-bit",
   "language": "python",
   "name": "python3"
  },
  "language_info": {
   "codemirror_mode": {
    "name": "ipython",
    "version": 3
   },
   "file_extension": ".py",
   "mimetype": "text/x-python",
   "name": "python",
   "nbconvert_exporter": "python",
   "pygments_lexer": "ipython3",
   "version": "3.8.10"
  },
  "orig_nbformat": 4
 },
 "nbformat": 4,
 "nbformat_minor": 2
}
