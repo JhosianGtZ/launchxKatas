{
 "cells": [
  {
   "cell_type": "markdown",
   "metadata": {},
   "source": [
    "## Ejercicio 1\n"
   ]
  },
  {
   "cell_type": "markdown",
   "metadata": {},
   "source": [
    "## Realizar la operación"
   ]
  },
  {
   "cell_type": "code",
   "execution_count": null,
   "metadata": {},
   "outputs": [],
   "source": [
    "\n",
    "distancia = tierra - jupiter\n",
    "\n",
    "template = f'''La distancia entre la tierra y jupiter es : {abs(distancia)} kilometros\n",
    "La distancia entre la tierra y jupiter es: {abs(distancia * 0.621)} millas\n",
    "'''\n",
    "\n",
    "print(template)\n"
   ]
  },
  {
   "cell_type": "markdown",
   "metadata": {},
   "source": [
    "### Ejercicio 2: convierte cadenas en números y usa valores absolutos\n"
   ]
  },
  {
   "cell_type": "code",
   "execution_count": null,
   "metadata": {},
   "outputs": [],
   "source": [
    "#Entradas del usuario \n",
    "distancia1 = input(\"Ingrese la primer distancia:\")\n",
    "distancia2 = input(\"Ingrese la segunda distancia:\")\n",
    "\n",
    "#Conversion de tipo string a tipo entero\n",
    "distancia1 = int(distancia1)\n",
    "distancia2 = int(distancia2)\n",
    "\n",
    "#Realización del cálculo \n",
    "distanciaTotal = distancia1 - distancia2\n",
    "\n",
    "#Conversión a valores absolutos y conversion de kilometros -> millas\n",
    "templateDist = f'''\n",
    "La distancia en km es: {abs(distanciaTotal)}\n",
    "La distancia en mi es: {abs(distanciaTotal * 0.621)}\n",
    "'''\n",
    "\n",
    "print(templateDist)\n",
    "\n"
   ]
  }
 ],
 "metadata": {
  "interpreter": {
   "hash": "916dbcbb3f70747c44a77c7bcd40155683ae19c65e1c03b4aa3499c5328201f1"
  },
  "kernelspec": {
   "display_name": "Python 3.8.10 64-bit",
   "language": "python",
   "name": "python3"
  },
  "language_info": {
   "codemirror_mode": {
    "name": "ipython",
    "version": 3
   },
   "file_extension": ".py",
   "mimetype": "text/x-python",
   "name": "python",
   "nbconvert_exporter": "python",
   "pygments_lexer": "ipython3",
   "version": "3.8.10"
  },
  "orig_nbformat": 4
 },
 "nbformat": 4,
 "nbformat_minor": 2
}
